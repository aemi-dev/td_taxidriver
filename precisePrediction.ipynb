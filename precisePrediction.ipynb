{
 "nbformat": 4,
 "nbformat_minor": 2,
 "metadata": {
  "language_info": {
   "name": "python",
   "codemirror_mode": {
    "name": "ipython",
    "version": 3
   },
   "version": "3.7.3-final"
  },
  "orig_nbformat": 2,
  "file_extension": ".py",
  "mimetype": "text/x-python",
  "name": "python",
  "npconvert_exporter": "python",
  "pygments_lexer": "ipython3",
  "version": 3,
  "kernelspec": {
   "name": "python37364bitb7004bbde37641dfb47b35a26b091c26",
   "display_name": "Python 3.7.3 64-bit"
  }
 },
 "cells": [
  {
   "cell_type": "code",
   "execution_count": 39,
   "metadata": {},
   "outputs": [],
   "source": [
    "import pandas as pd\n",
    "import numpy as np\n",
    "import time\n",
    "from sklearn.pipeline import Pipeline\n",
    "from sklearn.preprocessing import OneHotEncoder\n",
    "from sklearn.preprocessing import LabelEncoder\n",
    "from sklearn.compose import ColumnTransformer\n",
    "from sklearn.ensemble import RandomForestRegressor\n",
    "from sklearn.model_selection import train_test_split\n",
    "from sklearn.metrics import mean_absolute_error\n",
    "from sklearn.linear_model import LinearRegression\n",
    "from sklearn.linear_model import SGDRegressor"
   ]
  },
  {
   "cell_type": "code",
   "execution_count": 40,
   "metadata": {},
   "outputs": [],
   "source": [
    "dfValue = pd.read_csv('train.csv',engine='c',memory_map=True)"
   ]
  },
  {
   "cell_type": "code",
   "execution_count": 41,
   "metadata": {},
   "outputs": [],
   "source": [
    "dfTest = pd.read_csv('test.csv',engine='c',memory_map=True)"
   ]
  },
  {
   "cell_type": "code",
   "execution_count": 42,
   "metadata": {},
   "outputs": [],
   "source": [
    "X = dfValue.loc[:, dfValue.columns != 'trip_duration']\n",
    "Y = dfValue.trip_duration"
   ]
  },
  {
   "cell_type": "code",
   "execution_count": 43,
   "metadata": {},
   "outputs": [],
   "source": [
    "pickupDatetime  = pd.to_datetime(X.pickup_datetime)\n",
    "dropoffDatetime = pd.to_datetime(X.dropoff_datetime)\n",
    "\n",
    "XDrop = X.drop(['id','pickup_datetime','dropoff_datetime'],axis=1)\n",
    "\n",
    "# On reccréé des colonnes de pickup en séparant les informations de la date\n",
    "XDrop['pickupHour'] = pickupDatetime.dt.hour\n",
    "XDrop['pickupDayOfWeek'] = pickupDatetime.dt.dayofweek\n",
    "XDrop['pickupWeekOfYear'] = pickupDatetime.dt.weekofyear\n",
    "XDrop['pickupDayOfYear'] = pickupDatetime.dt.dayofyear\n",
    "\n",
    "# Pareil pour le dropoff\n",
    "XDrop['dropoffHour'] = dropoffDatetime.dt.hour\n",
    "XDrop['dropoffDayOfWeek'] = dropoffDatetime.dt.dayofweek\n",
    "XDrop['dropoffWeekOfYear'] = dropoffDatetime.dt.weekofyear\n",
    "XDrop['dropoffDayOfYear'] = dropoffDatetime.dt.dayofyear\n",
    "\n",
    "XTrain, XTest, YTrain, Ytest = train_test_split(XDrop,Y,train_size=0.6,random_state=19061996)"
   ]
  },
  {
   "cell_type": "code",
   "execution_count": 44,
   "metadata": {},
   "outputs": [],
   "source": [
    "#pipeline = Pipeline(steps=[('preprocessor', preprocessor),('model', model)]).fit(XTrain,YTrain)\n",
    "\n",
    "\n",
    "## PREPROCESSING LABEL ENCODER ##\n",
    "# labelEncoder = LabelEncoder()\n",
    "# XTrainFinal = XTrain.copy()\n",
    "# XTestFinal = XTest.copy()\n",
    "\n",
    "# XTrainFinal.store_and_fwd_flag = labelEncoder.fit_transform(XTrain.store_and_fwd_flag)\n",
    "# XTestFinal.store_and_fwd_flag = labelEncoder.transform(XTest.store_and_fwd_flag)\n",
    "\n",
    "## PREPROCESSING ONE HOT ENCODER\n",
    "OHEncoder = OneHotEncoder(sparse=False)\n",
    "OHColumnsTrain = pd.DataFrame(OHEncoder.fit_transform(XTrain[['store_and_fwd_flag']]))\n",
    "OHColumnsTest  = pd.DataFrame(OHEncoder.transform(XTest[['store_and_fwd_flag']]))\n",
    "\n",
    "OHColumnsTrain.index = XTrain.index\n",
    "OHColumnsTest.index = XTest.index\n",
    "\n",
    "XTrainCategoricalRemoved = XTrain.loc[:, XTrain.columns != 'store_and_fwd_flag']\n",
    "XTestCategoricalRemoved = XTest.loc[:, XTest.columns != 'store_and_fwd_flag']\n",
    "\n",
    "XTrainFinal = pd.concat([XTrainCategoricalRemoved, OHColumnsTrain], axis=1)\n",
    "XTestFinal = pd.concat([XTestCategoricalRemoved, OHColumnsTest], axis=1)"
   ]
  },
  {
   "cell_type": "code",
   "execution_count": 45,
   "metadata": {},
   "outputs": [],
   "source": [
    "#n_estimators=150 max_depth=10 --> meilleur résultats pour 10_000 lignes avec OHEncoder\n",
    "def train (n, d):\n",
    "    startingMsg = \"Starting n={} d={}\\n\".format(n,d)\n",
    "    print(startingMsg,end='')\n",
    "    \n",
    "    model = RandomForestRegressor(random_state=19061996,n_estimators=n, max_depth=d)\n",
    "    start = time.time()\n",
    "    model.fit(XTrainFinal,YTrain)\n",
    "    end = time.time()\n",
    "    preds = model.predict(XTestFinal)\n",
    "    mean = mean_absolute_error(Ytest,preds)\n",
    "\n",
    "    endMsg = \"n={} d={} t={}s e={}\\n\".format(n,d,format(end-start),mean)\n",
    "    print(endMsg,end='')"
   ]
  },
  {
   "cell_type": "code",
   "execution_count": 46,
   "metadata": {},
   "outputs": [],
   "source": [
    "N = [2,4,5,10]\n",
    "D = [2,3,6,7]\n",
    "\n",
    "# +---------> D\n",
    "# |\n",
    "# |\n",
    "# N\n",
    "mask = [[0,1,1,0],[1,1,0,0],[0,0,1,1],[1,0,0,1]]\n",
    "\n",
    "#Je vérifie que je n'est pas fait de la merde\n",
    "assert(len(mask) == len(N))\n",
    "for i in range(len(N)):\n",
    "    assert(len(mask[i]) == len(D))"
   ]
  },
  {
   "cell_type": "code",
   "execution_count": 47,
   "metadata": {},
   "outputs": [],
   "source": [
    "import threading # Les entraînements commencent à être long, il est temps de passer aux threads\n",
    "lock = threading.Lock()\n",
    "def threadFunc():\n",
    "    for i in range(len(N)):\n",
    "        for j in range (len(D)):\n",
    "            lock.acquire(True)\n",
    "\n",
    "            if mask[i][j] == 1:\n",
    "                mask[i][j] = 0\n",
    "                lock.release()\n",
    "                train(N[i],D[j])\n",
    "            \n",
    "            if (lock.locked()):\n",
    "                lock.release()"
   ]
  },
  {
   "cell_type": "code",
   "execution_count": 48,
   "metadata": {},
   "outputs": [
    {
     "name": "stdout",
     "output_type": "stream",
     "text": "(875186, 16)   (583458, 16)\nStarting n=2 d=3\nStarting n=2 d=6\nStarting n=4 d=2\nStarting n=4 d=3\nn=2 d=3 t=13.756820917129517s e=550.8763485547739\nStarting n=5 d=6\nn=4 d=2 t=17.968613862991333s e=556.4648143704406\nStarting n=5 d=7\nn=2 d=6 t=24.574275970458984s e=537.823595540267\nStarting n=10 d=2\nn=4 d=3 t=24.696449041366577s e=544.4455334762582\nStarting n=10 d=7\nn=10 d=2 t=35.70218777656555s e=558.2111541509372\nn=5 d=6 t=51.17058515548706s e=529.3804401539129\nn=5 d=7 t=55.00074005126953s e=526.7995014695272\n"
    }
   ],
   "source": [
    "print(XTrainFinal.shape, ' ', XTestFinal.shape)\n",
    "threadNum = 4\n",
    "threads = []\n",
    "# Lancement des threads\n",
    "for i in range(threadNum - 1):\n",
    "    threads.append(threading.Thread(target=threadFunc))\n",
    "    threads[i].start()\n",
    "\n",
    "threading.Thread(target=threadFunc).run()\n",
    "\n",
    "for t in threads:\n",
    "    t.join()"
   ]
  }
 ]
}