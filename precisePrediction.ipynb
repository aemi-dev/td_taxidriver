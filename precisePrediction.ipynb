{
 "nbformat": 4,
 "nbformat_minor": 2,
 "metadata": {
  "language_info": {
   "name": "python",
   "codemirror_mode": {
    "name": "ipython",
    "version": 3
   },
   "version": "3.6.9-final"
  },
  "orig_nbformat": 2,
  "file_extension": ".py",
  "mimetype": "text/x-python",
  "name": "python",
  "npconvert_exporter": "python",
  "pygments_lexer": "ipython3",
  "version": 3,
  "kernelspec": {
   "name": "python36964bit7d3e4833d7af4148a62db2493825298b",
   "display_name": "Python 3.6.9 64-bit"
  }
 },
 "cells": [
  {
   "cell_type": "code",
   "execution_count": 1,
   "metadata": {},
   "outputs": [],
   "source": [
    "import pandas as pd\n",
    "import numpy as np\n",
    "import time\n",
    "from sklearn.pipeline import Pipeline\n",
    "from sklearn.preprocessing import OneHotEncoder\n",
    "from sklearn.preprocessing import LabelEncoder\n",
    "from sklearn.compose import ColumnTransformer\n",
    "from sklearn.ensemble import RandomForestRegressor\n",
    "from sklearn.model_selection import train_test_split\n",
    "from sklearn.metrics import mean_absolute_error\n",
    "from sklearn.linear_model import LinearRegression\n",
    "from sklearn.linear_model import SGDRegressor"
   ]
  },
  {
   "cell_type": "code",
   "execution_count": 2,
   "metadata": {},
   "outputs": [],
   "source": [
    "dfValue = pd.read_csv('train.csv',engine='c',memory_map=True)"
   ]
  },
  {
   "cell_type": "code",
   "execution_count": 3,
   "metadata": {},
   "outputs": [],
   "source": [
    "dfTest = pd.read_csv('test.csv',engine='c',memory_map=True)"
   ]
  },
  {
   "cell_type": "code",
   "execution_count": 4,
   "metadata": {},
   "outputs": [],
   "source": [
    "X = dfValue.loc[:, dfValue.columns != 'trip_duration']\n",
    "Y = dfValue.trip_duration"
   ]
  },
  {
   "cell_type": "code",
   "execution_count": 5,
   "metadata": {},
   "outputs": [],
   "source": [
    "pickupDatetime  = pd.to_datetime(X.pickup_datetime)\n",
    "dropoffDatetime = pd.to_datetime(X.dropoff_datetime)\n",
    "\n",
    "XDrop = X.drop(['id','pickup_datetime','dropoff_datetime'],axis=1)\n",
    "\n",
    "# On reccréé des colonnes de pickup en séparant les informations de la date\n",
    "XDrop['pickupHour'] = pickupDatetime.dt.hour\n",
    "XDrop['pickupDayOfWeek'] = pickupDatetime.dt.dayofweek\n",
    "XDrop['pickupWeekOfYear'] = pickupDatetime.dt.weekofyear\n",
    "XDrop['pickupDayOfYear'] = pickupDatetime.dt.dayofyear\n",
    "\n",
    "# Pareil pour le dropoff\n",
    "XDrop['dropoffHour'] = dropoffDatetime.dt.hour\n",
    "XDrop['dropoffDayOfWeek'] = dropoffDatetime.dt.dayofweek\n",
    "XDrop['dropoffWeekOfYear'] = dropoffDatetime.dt.weekofyear\n",
    "XDrop['dropoffDayOfYear'] = dropoffDatetime.dt.dayofyear\n",
    "\n",
    "XTrain, XTest, YTrain, Ytest = train_test_split(XDrop,Y,train_size=0.85,random_state=19061996)"
   ]
  },
  {
   "cell_type": "code",
   "execution_count": 6,
   "metadata": {},
   "outputs": [],
   "source": [
    "#pipeline = Pipeline(steps=[('preprocessor', preprocessor),('model', model)]).fit(XTrain,YTrain)\n",
    "\n",
    "\n",
    "## PREPROCESSING LABEL ENCODER ##\n",
    "# labelEncoder = LabelEncoder()\n",
    "# XTrainFinal = XTrain.copy()\n",
    "# XTestFinal = XTest.copy()\n",
    "\n",
    "# XTrainFinal.store_and_fwd_flag = labelEncoder.fit_transform(XTrain.store_and_fwd_flag)\n",
    "# XTestFinal.store_and_fwd_flag = labelEncoder.transform(XTest.store_and_fwd_flag)\n",
    "\n",
    "## PREPROCESSING ONE HOT ENCODER\n",
    "OHEncoder = OneHotEncoder(sparse=False)\n",
    "OHColumnsTrain = pd.DataFrame(OHEncoder.fit_transform(XTrain[['store_and_fwd_flag']]))\n",
    "OHColumnsTest  = pd.DataFrame(OHEncoder.transform(XTest[['store_and_fwd_flag']]))\n",
    "\n",
    "OHColumnsTrain.index = XTrain.index\n",
    "OHColumnsTest.index = XTest.index\n",
    "\n",
    "XTrainCategoricalRemoved = XTrain.loc[:, XTrain.columns != 'store_and_fwd_flag']\n",
    "XTestCategoricalRemoved = XTest.loc[:, XTest.columns != 'store_and_fwd_flag']\n",
    "\n",
    "XTrainFinal = pd.concat([XTrainCategoricalRemoved, OHColumnsTrain], axis=1)\n",
    "XTestFinal = pd.concat([XTestCategoricalRemoved, OHColumnsTest], axis=1)"
   ]
  },
  {
   "cell_type": "code",
   "execution_count": 7,
   "metadata": {},
   "outputs": [],
   "source": [
    "#n_estimators=150 max_depth=10 --> meilleur résultats pour 10_000 lignes avec OHEncoder\n",
    "def train (n, d,jobs=None):\n",
    "    startingMsg = \"Starting n={} d={} \".format(n,d)\n",
    "    print(startingMsg,end='')\n",
    "    \n",
    "    model = RandomForestRegressor(random_state=19061996,n_estimators=n, max_depth=d,n_jobs=jobs)\n",
    "    start = time.time()\n",
    "    model.fit(XTrainFinal,YTrain)\n",
    "    end = time.time()\n",
    "    preds = model.predict(XTestFinal)\n",
    "    mean = mean_absolute_error(Ytest,preds)\n",
    "\n",
    "    endMsg = \"t={}s e={}\\n\".format(format(end-start),mean)\n",
    "    print(endMsg,end='')"
   ]
  },
  {
   "cell_type": "code",
   "execution_count": 14,
   "metadata": {},
   "outputs": [],
   "source": [
    "N = [70,80,90,100]\n",
    "D = [30,40,50]"
   ]
  },
  {
   "cell_type": "code",
   "execution_count": 15,
   "metadata": {},
   "outputs": [],
   "source": [
    "# +---------> D\n",
    "# |\n",
    "#\\|A/\n",
    "# N\n",
    "mask = [[1,1,1],[1,1,1],[1,1,1],[1,1,1]]\n",
    "\n",
    "#Je vérifie que je n'est pas fait de la merde\n",
    "assert(len(mask) == len(N))\n",
    "for i in range(len(N)):\n",
    "    assert(len(mask[i]) == len(D))"
   ]
  },
  {
   "cell_type": "code",
   "execution_count": 16,
   "metadata": {},
   "outputs": [],
   "source": [
    "import threading # Les entraînements commencent à être long, il est temps de passer aux threads\n",
    "lock = threading.Lock()\n",
    "def threadFunc():\n",
    "    for i in range(len(N)):\n",
    "        for j in range (len(D)):\n",
    "            if mask[i][j] == 1:\n",
    "                train(N[i],D[j],4)"
   ]
  },
  {
   "cell_type": "code",
   "execution_count": 11,
   "metadata": {},
   "outputs": [
    {
     "name": "stdout",
     "output_type": "stream",
     "text": "(1239847, 16)   (218797, 16)\nStarting n=50 d=60t=394.1654534339905s e=359.46603197828307\nStarting n=60 d=40t=467.8542101383209s e=356.2934803112503\nStarting n=60 d=50t=465.10663771629333s e=356.30776700537615\nStarting n=60 d=60t=465.98942041397095s e=356.20533701068854\n"
    }
   ],
   "source": [
    "print(XTrainFinal.shape, ' ', XTestFinal.shape)\n",
    "threadNum = 3\n",
    "threads = []\n",
    "threadFunc()"
   ]
  }
 ]
}