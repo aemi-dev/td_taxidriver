{
 "nbformat": 4,
 "nbformat_minor": 2,
 "metadata": {
  "language_info": {
   "name": "python",
   "codemirror_mode": {
    "name": "ipython",
    "version": 3
   },
   "version": "3.7.3-final"
  },
  "orig_nbformat": 2,
  "file_extension": ".py",
  "mimetype": "text/x-python",
  "name": "python",
  "npconvert_exporter": "python",
  "pygments_lexer": "ipython3",
  "version": 3,
  "kernelspec": {
   "name": "python37364bitb7004bbde37641dfb47b35a26b091c26",
   "display_name": "Python 3.7.3 64-bit"
  }
 },
 "cells": [
  {
   "cell_type": "code",
   "execution_count": 2,
   "metadata": {},
   "outputs": [],
   "source": [
    "import pandas as pd\n",
    "import numpy as np\n",
    "import time\n",
    "from sklearn.pipeline import Pipeline\n",
    "from sklearn.preprocessing import OneHotEncoder\n",
    "from sklearn.preprocessing import LabelEncoder\n",
    "from sklearn.compose import ColumnTransformer\n",
    "from sklearn.ensemble import RandomForestRegressor\n",
    "from sklearn.model_selection import train_test_split\n",
    "from sklearn.metrics import mean_absolute_error\n",
    "from sklearn.linear_model import LinearRegression\n",
    "from sklearn.linear_model import SGDRegressor"
   ]
  },
  {
   "cell_type": "code",
   "execution_count": 3,
   "metadata": {},
   "outputs": [],
   "source": [
    "dfValue = pd.read_csv('train.csv',engine='c',memory_map=True)"
   ]
  },
  {
   "cell_type": "code",
   "execution_count": 4,
   "metadata": {},
   "outputs": [],
   "source": [
    "dfTest = pd.read_csv('test.csv',engine='c',memory_map=True)"
   ]
  },
  {
   "cell_type": "code",
   "execution_count": 5,
   "metadata": {},
   "outputs": [],
   "source": [
    "X = dfValue.loc[:, dfValue.columns != 'trip_duration']\n",
    "Y = dfValue.trip_duration"
   ]
  },
  {
   "cell_type": "code",
   "execution_count": 6,
   "metadata": {},
   "outputs": [],
   "source": [
    "pickupDatetime  = pd.to_datetime(X.pickup_datetime)\n",
    "dropoffDatetime = pd.to_datetime(X.dropoff_datetime)\n",
    "\n",
    "XDrop = X.drop(['id','pickup_datetime','dropoff_datetime'],axis=1)\n",
    "\n",
    "# On reccréé des colonnes de pickup en séparant les informations de la date\n",
    "XDrop['pickupHour'] = pickupDatetime.dt.hour\n",
    "XDrop['pickupDayOfWeek'] = pickupDatetime.dt.dayofweek\n",
    "XDrop['pickupWeekOfYear'] = pickupDatetime.dt.weekofyear\n",
    "XDrop['pickupDayOfYear'] = pickupDatetime.dt.dayofyear\n",
    "\n",
    "# Pareil pour le dropoff\n",
    "XDrop['dropoffHour'] = dropoffDatetime.dt.hour\n",
    "XDrop['dropoffDayOfWeek'] = dropoffDatetime.dt.dayofweek\n",
    "XDrop['dropoffWeekOfYear'] = dropoffDatetime.dt.weekofyear\n",
    "XDrop['dropoffDayOfYear'] = dropoffDatetime.dt.dayofyear\n",
    "\n",
    "XTrain, XTest, YTrain, Ytest = train_test_split(XDrop,Y,train_size=0.6,random_state=19061996)"
   ]
  },
  {
   "cell_type": "code",
   "execution_count": 7,
   "metadata": {},
   "outputs": [],
   "source": [
    "#pipeline = Pipeline(steps=[('preprocessor', preprocessor),('model', model)]).fit(XTrain,YTrain)\n",
    "\n",
    "\n",
    "## PREPROCESSING LABEL ENCODER ##\n",
    "# labelEncoder = LabelEncoder()\n",
    "# XTrainFinal = XTrain.copy()\n",
    "# XTestFinal = XTest.copy()\n",
    "\n",
    "# XTrainFinal.store_and_fwd_flag = labelEncoder.fit_transform(XTrain.store_and_fwd_flag)\n",
    "# XTestFinal.store_and_fwd_flag = labelEncoder.transform(XTest.store_and_fwd_flag)\n",
    "\n",
    "## PREPROCESSING ONE HOT ENCODER\n",
    "OHEncoder = OneHotEncoder(sparse=False)\n",
    "OHColumnsTrain = pd.DataFrame(OHEncoder.fit_transform(XTrain[['store_and_fwd_flag']]))\n",
    "OHColumnsTest  = pd.DataFrame(OHEncoder.transform(XTest[['store_and_fwd_flag']]))\n",
    "\n",
    "OHColumnsTrain.index = XTrain.index\n",
    "OHColumnsTest.index = XTest.index\n",
    "\n",
    "XTrainCategoricalRemoved = XTrain.loc[:, XTrain.columns != 'store_and_fwd_flag']\n",
    "XTestCategoricalRemoved = XTest.loc[:, XTest.columns != 'store_and_fwd_flag']\n",
    "\n",
    "XTrainFinal = pd.concat([XTrainCategoricalRemoved, OHColumnsTrain], axis=1)\n",
    "XTestFinal = pd.concat([XTestCategoricalRemoved, OHColumnsTest], axis=1)"
   ]
  },
  {
   "cell_type": "code",
   "execution_count": 8,
   "metadata": {},
   "outputs": [],
   "source": [
    "#n_estimators=150 max_depth=10 --> meilleur résultats pour 10_000 lignes avec OHEncoder\n",
    "def train (nList, dList):\n",
    "    for n in nList:\n",
    "        for d in dList:\n",
    "            startingMsg = \"Starting n={} d={}\\n\".format(n,d)\n",
    "            print(startingMsg,end='')\n",
    "            \n",
    "            model = RandomForestRegressor(random_state=19061996,n_estimators=n, max_depth=d)\n",
    "            start = time.time()\n",
    "            model.fit(XTrainFinal,YTrain)\n",
    "            end = time.time()\n",
    "            preds = model.predict(XTestFinal)\n",
    "            mean = mean_absolute_error(Ytest,preds)\n",
    "\n",
    "            endMsg = \"n={} d={} t={}s e={}\\n\".format(n,d,format(end-start),mean)\n",
    "            print(endMsg,end='')\n",
    "        print('')"
   ]
  },
  {
   "cell_type": "code",
   "execution_count": 9,
   "metadata": {},
   "outputs": [
    {
     "name": "stdout",
     "output_type": "stream",
     "text": "(875186, 16)   (583458, 16)\nStarting n=10 d=10\nStarting n=10 d=15\nn=10 d=10 t=93.8547751903534s e=500.7646538195638\nStarting n=10 d=17\nn=10 d=15 t=139.27649903297424s e=456.1972427538797\nStarting n=10 d=20\nn=10 d=17 t=158.70106482505798s e=444.2230268258811\nStarting n=10 d=30\nn=10 d=20 t=179.82802605628967s e=428.9234625010339\n\n"
    },
    {
     "ename": "KeyboardInterrupt",
     "evalue": "",
     "output_type": "error",
     "traceback": [
      "\u001b[0;31m---------------------------------------------------------------------------\u001b[0m",
      "\u001b[0;31mKeyboardInterrupt\u001b[0m                         Traceback (most recent call last)",
      "\u001b[0;32m<ipython-input-9-2398a8d97867>\u001b[0m in \u001b[0;36m<module>\u001b[0;34m\u001b[0m\n\u001b[1;32m     24\u001b[0m \u001b[0;34m\u001b[0m\u001b[0m\n\u001b[1;32m     25\u001b[0m     \u001b[0;32mfor\u001b[0m \u001b[0mt\u001b[0m \u001b[0;32min\u001b[0m \u001b[0mthreadList\u001b[0m\u001b[0;34m:\u001b[0m\u001b[0;34m\u001b[0m\u001b[0;34m\u001b[0m\u001b[0m\n\u001b[0;32m---> 26\u001b[0;31m         \u001b[0mt\u001b[0m\u001b[0;34m.\u001b[0m\u001b[0mjoin\u001b[0m\u001b[0;34m(\u001b[0m\u001b[0;34m)\u001b[0m\u001b[0;34m\u001b[0m\u001b[0;34m\u001b[0m\u001b[0m\n\u001b[0m",
      "\u001b[0;32m/Library/Developer/CommandLineTools/Library/Frameworks/Python3.framework/Versions/3.7/lib/python3.7/threading.py\u001b[0m in \u001b[0;36mjoin\u001b[0;34m(self, timeout)\u001b[0m\n\u001b[1;32m   1030\u001b[0m \u001b[0;34m\u001b[0m\u001b[0m\n\u001b[1;32m   1031\u001b[0m         \u001b[0;32mif\u001b[0m \u001b[0mtimeout\u001b[0m \u001b[0;32mis\u001b[0m \u001b[0;32mNone\u001b[0m\u001b[0;34m:\u001b[0m\u001b[0;34m\u001b[0m\u001b[0;34m\u001b[0m\u001b[0m\n\u001b[0;32m-> 1032\u001b[0;31m             \u001b[0mself\u001b[0m\u001b[0;34m.\u001b[0m\u001b[0m_wait_for_tstate_lock\u001b[0m\u001b[0;34m(\u001b[0m\u001b[0;34m)\u001b[0m\u001b[0;34m\u001b[0m\u001b[0;34m\u001b[0m\u001b[0m\n\u001b[0m\u001b[1;32m   1033\u001b[0m         \u001b[0;32melse\u001b[0m\u001b[0;34m:\u001b[0m\u001b[0;34m\u001b[0m\u001b[0;34m\u001b[0m\u001b[0m\n\u001b[1;32m   1034\u001b[0m             \u001b[0;31m# the behavior of a negative timeout isn't documented, but\u001b[0m\u001b[0;34m\u001b[0m\u001b[0;34m\u001b[0m\u001b[0;34m\u001b[0m\u001b[0m\n",
      "\u001b[0;32m/Library/Developer/CommandLineTools/Library/Frameworks/Python3.framework/Versions/3.7/lib/python3.7/threading.py\u001b[0m in \u001b[0;36m_wait_for_tstate_lock\u001b[0;34m(self, block, timeout)\u001b[0m\n\u001b[1;32m   1046\u001b[0m         \u001b[0;32mif\u001b[0m \u001b[0mlock\u001b[0m \u001b[0;32mis\u001b[0m \u001b[0;32mNone\u001b[0m\u001b[0;34m:\u001b[0m  \u001b[0;31m# already determined that the C code is done\u001b[0m\u001b[0;34m\u001b[0m\u001b[0;34m\u001b[0m\u001b[0m\n\u001b[1;32m   1047\u001b[0m             \u001b[0;32massert\u001b[0m \u001b[0mself\u001b[0m\u001b[0;34m.\u001b[0m\u001b[0m_is_stopped\u001b[0m\u001b[0;34m\u001b[0m\u001b[0;34m\u001b[0m\u001b[0m\n\u001b[0;32m-> 1048\u001b[0;31m         \u001b[0;32melif\u001b[0m \u001b[0mlock\u001b[0m\u001b[0;34m.\u001b[0m\u001b[0macquire\u001b[0m\u001b[0;34m(\u001b[0m\u001b[0mblock\u001b[0m\u001b[0;34m,\u001b[0m \u001b[0mtimeout\u001b[0m\u001b[0;34m)\u001b[0m\u001b[0;34m:\u001b[0m\u001b[0;34m\u001b[0m\u001b[0;34m\u001b[0m\u001b[0m\n\u001b[0m\u001b[1;32m   1049\u001b[0m             \u001b[0mlock\u001b[0m\u001b[0;34m.\u001b[0m\u001b[0mrelease\u001b[0m\u001b[0;34m(\u001b[0m\u001b[0;34m)\u001b[0m\u001b[0;34m\u001b[0m\u001b[0;34m\u001b[0m\u001b[0m\n\u001b[1;32m   1050\u001b[0m             \u001b[0mself\u001b[0m\u001b[0;34m.\u001b[0m\u001b[0m_stop\u001b[0m\u001b[0;34m(\u001b[0m\u001b[0;34m)\u001b[0m\u001b[0;34m\u001b[0m\u001b[0;34m\u001b[0m\u001b[0m\n",
      "\u001b[0;31mKeyboardInterrupt\u001b[0m: "
     ]
    }
   ],
   "source": [
    "import threading # Les entraînements commencent à être long, il est temps de passer aux threads \n",
    "print(XTrainFinal.shape, ' ', XTestFinal.shape)\n",
    "\n",
    "threadNum = 2\n",
    "N = [10,11,12]\n",
    "D = [10,15,17,20,30]\n",
    "\n",
    "for n in N:\n",
    "    threadArgs = []\n",
    "    for i in range(threadNum):\n",
    "        threadArgs.append([])\n",
    "\n",
    "    for i in range(len(D)):\n",
    "        threadArgs[i % threadNum].append(D[i])\n",
    "\n",
    "    threadList = []\n",
    "\n",
    "    for i in range(threadNum - 1):\n",
    "        threadList.append(threading.Thread(target=train,args=([n],threadArgs[i])))\n",
    "        threadList[i].start()\n",
    "\n",
    "    threadList.append(threading.Thread(target=train,args=([n],threadArgs[threadNum-1])))\n",
    "    threadList[threadNum-1].run()\n",
    "\n",
    "    for t in threadList:\n",
    "        t.join()\n",
    ""
   ]
  },
  {
   "cell_type": "code",
   "execution_count": null,
   "metadata": {},
   "outputs": [],
   "source": []
  }
 ]
}