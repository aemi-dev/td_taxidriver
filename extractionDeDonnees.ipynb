{
 "nbformat": 4,
 "nbformat_minor": 2,
 "metadata": {
  "language_info": {
   "name": "python",
   "codemirror_mode": {
    "name": "ipython",
    "version": 3
   }
  },
  "orig_nbformat": 2,
  "file_extension": ".py",
  "mimetype": "text/x-python",
  "name": "python",
  "npconvert_exporter": "python",
  "pygments_lexer": "ipython3",
  "version": 3
 },
 "cells": [
  {
   "cell_type": "code",
   "execution_count": 46,
   "metadata": {},
   "outputs": [],
   "source": [
    "import numpy as np\n",
    "import pandas as pd"
   ]
  },
  {
   "cell_type": "code",
   "execution_count": 77,
   "metadata": {},
   "outputs": [],
   "source": [
    "# Lit le fichier csv (+ quelques options qui font que normalement ça va un peu plus vite)\n",
    "df = pd.read_csv(\"train.csv\",engine='c',memory_map=True,nrows=1000)\n",
    "\n",
    "# Supprime les lignes qui contiennent une donnée manquante\n",
    "df.dropna(inplace=True)\n",
    "\n",
    "# Supprime les données dupliquées\n",
    "df.drop_duplicates(inplace=True)\n",
    "\n",
    "#Supprime les colonnes qui ne sont pas utile pour le modèle.\n",
    "#Il doit y avoir un moyen de le faire directement dans la lecture du fichier mais je ne l'ai pas trouvé. Il y a le\n",
    "#paramètre <names> pour la fonction read_csv qui prend la liste des colonnes à lire, mais quand je l'utilise, le résultat\n",
    "#que j'obtient est bizarre. Pour l'instant ça, ça marche\n",
    "df.drop(['id', 'vendor_id','dropoff_datetime','store_and_fwd_flag'],axis=1,inplace=True)\n",
    "\n",
    "#Convertion des dates dans un format normalisé\n",
    "df['pickup_datetime'] = pd.to_datetime(df.pickup_datetime)\n",
    "\n",
    "#extraction de données\n",
    "df.loc[:, \"date\"] = df.pickup_datetime.dt.date\n",
    "df.loc[:, \"time\"] = df.pickup_datetime.dt.time\n",
    "df.loc[:, \"dayOfTheWeek\"] = df.pickup_datetime.dt.dayofweek\n",
    "df.loc[:, \"WeekOfTheYear\"] = df.pickup_datetime.dt.weekofyear"
   ]
  },
  {
   "cell_type": "code",
   "execution_count": null,
   "metadata": {},
   "outputs": [],
   "source": []
  }
 ]
}